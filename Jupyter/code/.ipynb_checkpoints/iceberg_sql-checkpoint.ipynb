{
 "cells": [
  {
   "cell_type": "code",
   "execution_count": null,
   "id": "b205ca99-3d77-471b-897d-4781b8c3137f",
   "metadata": {},
   "outputs": [],
   "source": [
    "# https://py.iceberg.apache.org/#write-a-pyarrow-dataframe\n",
    "\n",
    "#  mkdir /tmp/warehouse\n",
    "# curl https://d37ci6vzurychx.cloudfront.net/trip-data/yellow_tripdata_2023-01.parquet -o /tmp/yellow_tripdata_2023-01.parquet\n"
   ]
  },
  {
   "cell_type": "code",
   "execution_count": 13,
   "id": "f58599c9-1796-47cc-8e7a-af88f0e5f239",
   "metadata": {},
   "outputs": [
    {
     "name": "stdout",
     "output_type": "stream",
     "text": [
      "hi\n"
     ]
    }
   ],
   "source": [
    "print('hi')"
   ]
  },
  {
   "cell_type": "code",
   "execution_count": 14,
   "id": "66288e7f-083d-497b-b2a1-b45ad38d84fb",
   "metadata": {},
   "outputs": [],
   "source": [
    "# Open a Python 3 REPL to set up the catalog:\n",
    "\n",
    "from pyiceberg.catalog.sql import SqlCatalog\n",
    "\n",
    "warehouse_path = \"/tmp/warehouse\"\n",
    "catalog = SqlCatalog(\n",
    "    \"default\",\n",
    "    **{\n",
    "        \"uri\": f\"sqlite:///{warehouse_path}/pyiceberg_catalog.db\",\n",
    "        \"warehouse\": f\"file://{warehouse_path}\",\n",
    "    },\n",
    ")"
   ]
  },
  {
   "cell_type": "code",
   "execution_count": 16,
   "id": "71bd00b3-b1f5-4742-9c67-a137e6343032",
   "metadata": {},
   "outputs": [],
   "source": [
    "# Load it into your PyArrow dataframe:\n",
    "\n",
    "import pyarrow.parquet as pq\n",
    "\n",
    "df = pq.read_table(\"/tmp/yellow_tripdata_2023-01.parquet\")"
   ]
  },
  {
   "cell_type": "code",
   "execution_count": 17,
   "id": "3c00141f-2276-40a0-9d95-1dd4852bd92f",
   "metadata": {},
   "outputs": [],
   "source": [
    "# Create a new Iceberg table:\n",
    "\n",
    "catalog.create_namespace(\"default\")\n",
    "\n",
    "table = catalog.create_table(\n",
    "    \"default.taxi_dataset\",\n",
    "    schema=df.schema,\n",
    ")"
   ]
  },
  {
   "cell_type": "code",
   "execution_count": 18,
   "id": "0e207aac-5474-4d60-92dd-8b199e3ea072",
   "metadata": {},
   "outputs": [
    {
     "data": {
      "text/plain": [
       "3066766"
      ]
     },
     "execution_count": 18,
     "metadata": {},
     "output_type": "execute_result"
    }
   ],
   "source": [
    "# Append the dataframe to the table:\n",
    "\n",
    "table.append(df)\n",
    "len(table.scan().to_arrow())"
   ]
  },
  {
   "cell_type": "code",
   "execution_count": null,
   "id": "8204fb84-c4ef-46dd-ab21-064519b07207",
   "metadata": {},
   "outputs": [],
   "source": []
  }
 ],
 "metadata": {
  "kernelspec": {
   "display_name": "Python 3 (ipykernel)",
   "language": "python",
   "name": "python3"
  },
  "language_info": {
   "codemirror_mode": {
    "name": "ipython",
    "version": 3
   },
   "file_extension": ".py",
   "mimetype": "text/x-python",
   "name": "python",
   "nbconvert_exporter": "python",
   "pygments_lexer": "ipython3",
   "version": "3.12.5"
  }
 },
 "nbformat": 4,
 "nbformat_minor": 5
}

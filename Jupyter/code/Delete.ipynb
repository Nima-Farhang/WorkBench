{
 "cells": [
  {
   "cell_type": "code",
   "execution_count": 1,
   "id": "f58599c9-1796-47cc-8e7a-af88f0e5f239",
   "metadata": {},
   "outputs": [
    {
     "name": "stdout",
     "output_type": "stream",
     "text": [
      "hi\n"
     ]
    }
   ],
   "source": [
    "print('hi')"
   ]
  },
  {
   "cell_type": "code",
   "execution_count": null,
   "id": "a5bff66e-a9d3-48e0-8b98-d146032f2c3f",
   "metadata": {},
   "outputs": [],
   "source": []
  },
  {
   "cell_type": "code",
   "execution_count": 3,
   "id": "baaa81ab-31b2-4b9a-a002-c7baae16523d",
   "metadata": {},
   "outputs": [],
   "source": [
    "from pyspark.sql import SparkSession\n",
    "import pandas as pd"
   ]
  },
  {
   "cell_type": "code",
   "execution_count": 5,
   "id": "750bf8f3-7531-481e-87a7-bf473a9c6c44",
   "metadata": {},
   "outputs": [
    {
     "name": "stderr",
     "output_type": "stream",
     "text": [
      "Setting default log level to \"WARN\".\n",
      "To adjust logging level use sc.setLogLevel(newLevel). For SparkR, use setLogLevel(newLevel).\n",
      "24/08/13 09:35:41 WARN NativeCodeLoader: Unable to load native-hadoop library for your platform... using builtin-java classes where applicable\n"
     ]
    }
   ],
   "source": [
    "spark = SparkSession.builder.appName('Data').getOrCreate()"
   ]
  },
  {
   "cell_type": "code",
   "execution_count": 15,
   "id": "11f1bfd5-6e30-449c-b6d2-bc154d49831a",
   "metadata": {},
   "outputs": [
    {
     "name": "stdout",
     "output_type": "stream",
     "text": [
      "+----------------+------+--------------------+----------+--------------+-------+--------------------+--------+----------+---------+\n",
      "|METRIC_SOURCE_ID|SOURCE|         METRIC_NAME|SUMMARY_OP|          UNIT|ENABLED|         DESCRIPTION| COMMENT|GROUP_NAME|DATA_TYPE|\n",
      "+----------------+------+--------------------+----------+--------------+-------+--------------------+--------+----------+---------+\n",
      "|       M8001C519|NETACT|RACH_STP_REJ_TA_M...|       SUM|Integer number|      1|This counter prov...|FD_FL21B|    LCELLD|    FLOAT|\n",
      "|       M8001C520|NETACT|RACH_STP_REJ_TA_M...|       SUM|Integer number|      1|This counter prov...|FD_FL21B|    LCELLD|    FLOAT|\n",
      "|       M8001C521|NETACT|RACH_STP_REJ_TA_M...|       SUM|Integer number|      1|This counter prov...|FD_FL21B|    LCELLD|    FLOAT|\n",
      "|       M8001C522|NETACT|RACH_STP_REJ_TA_M...|       SUM|Integer number|      1|This counter prov...|FD_FL21B|    LCELLD|    FLOAT|\n",
      "|  cpuAverageLoad|NETACT|      CPUAVERAGELOAD|       AVG|             #|      1|Percentage of CPU...|    NULL|  AGGREGAT|   NUMBER|\n",
      "+----------------+------+--------------------+----------+--------------+-------+--------------------+--------+----------+---------+\n",
      "only showing top 5 rows\n",
      "\n"
     ]
    }
   ],
   "source": [
    "df=spark.read.csv('/usr/src/app/data/Metric_list.csv',header=True,inferSchema=True)\n",
    "df.show(5)"
   ]
  },
  {
   "cell_type": "code",
   "execution_count": null,
   "id": "66288e7f-083d-497b-b2a1-b45ad38d84fb",
   "metadata": {},
   "outputs": [],
   "source": []
  }
 ],
 "metadata": {
  "kernelspec": {
   "display_name": "Python 3 (ipykernel)",
   "language": "python",
   "name": "python3"
  },
  "language_info": {
   "codemirror_mode": {
    "name": "ipython",
    "version": 3
   },
   "file_extension": ".py",
   "mimetype": "text/x-python",
   "name": "python",
   "nbconvert_exporter": "python",
   "pygments_lexer": "ipython3",
   "version": "3.12.5"
  }
 },
 "nbformat": 4,
 "nbformat_minor": 5
}
